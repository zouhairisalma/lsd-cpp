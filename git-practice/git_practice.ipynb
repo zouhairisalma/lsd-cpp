{
 "cells": [
  {
   "cell_type": "markdown",
   "id": "61353d89",
   "metadata": {},
   "source": [
    "# Team Git practice"
   ]
  },
  {
   "cell_type": "markdown",
   "id": "f07eeedd",
   "metadata": {},
   "source": [
    "## Rules"
   ]
  },
  {
   "cell_type": "markdown",
   "id": "bff600ab",
   "metadata": {},
   "source": [
    "In the following tasks we will try to simulate working with git in a team environment.\n",
    "\n",
    "Split up into groups of two, that consists of the following:\n",
    "- Developer1, responsible for managing the remote repository, as well as project devoplopement.\n",
    "- Developer2, responsible for project developement.\n",
    "\n",
    "Use descriptive commit messages as we are going to check your commit history."
   ]
  },
  {
   "cell_type": "markdown",
   "id": "dc20cc1b",
   "metadata": {},
   "source": [
    "## quest 0"
   ]
  },
  {
   "cell_type": "markdown",
   "id": "e3f65ab3",
   "metadata": {},
   "source": [
    "1. Start by architecting a solution of exerecice 1, cpp_TP04\n",
    "2. Split up the work among yourselves\n",
    "3. Implement the solution\n",
    "1. Install git\n",
    "2. Add some basic configuration (email, name, text editor ...)\n",
    "3. Configure github with ssh"
   ]
  },
  {
   "cell_type": "markdown",
   "id": "1d21e275",
   "metadata": {},
   "source": [
    "## quest 1"
   ]
  },
  {
   "cell_type": "markdown",
   "id": "95d0df6c",
   "metadata": {},
   "source": [
    "### Developer 1"
   ]
  },
  {
   "cell_type": "markdown",
   "id": "5d73ad55",
   "metadata": {},
   "source": [
    "1. Create a public repository in your GitHub account\n",
    "2. Add Developper2 in your team as Collaborator"
   ]
  },
  {
   "cell_type": "markdown",
   "id": "430d3691",
   "metadata": {},
   "source": [
    "### Developer1 and Developer2"
   ]
  },
  {
   "cell_type": "markdown",
   "id": "e0440f0f",
   "metadata": {},
   "source": [
    "1. Clone the remote repository to your computer\n",
    "2. Navigate to the working directory you just cloned"
   ]
  },
  {
   "cell_type": "markdown",
   "id": "54b88f33",
   "metadata": {},
   "source": [
    "### Developer1"
   ]
  },
  {
   "cell_type": "markdown",
   "id": "3e299cbe",
   "metadata": {},
   "source": [
    "1. Create the file `AUTHORS`, put the team's members names there\n",
    "2. Stage the changes to be commited\n",
    "3. Commit the changes (use a descriptive message).\n",
    "4. Push the changes to the main branch"
   ]
  },
  {
   "cell_type": "markdown",
   "id": "7b8837db",
   "metadata": {},
   "source": [
    "### Developer2"
   ]
  },
  {
   "cell_type": "markdown",
   "id": "5c35a2cc",
   "metadata": {},
   "source": [
    "1. Create a new branch `devel_000` based on the master branch, and switch to it\n",
    "2. Create `.gitignore` file, put the files you want git to ignore in there\n",
    "3. Stage the changes to be commited\n",
    "4. Commit the changes.\n",
    "5. Push the branch to the remote repository and create a pull request"
   ]
  },
  {
   "cell_type": "markdown",
   "id": "34fa0d25",
   "metadata": {},
   "source": [
    "### Developer1"
   ]
  },
  {
   "cell_type": "markdown",
   "id": "5ef8d741",
   "metadata": {},
   "source": [
    "1. Review the pull request made by Developer1\n",
    "2. Merge the branch `devel_000` into main if satisfied with the modifications"
   ]
  },
  {
   "cell_type": "markdown",
   "id": "418d0e14",
   "metadata": {},
   "source": [
    "## quest 2"
   ]
  },
  {
   "cell_type": "markdown",
   "id": "f77b14e9",
   "metadata": {},
   "source": [
    "### Developer2"
   ]
  },
  {
   "cell_type": "markdown",
   "id": "21c885a7",
   "metadata": {},
   "source": [
    "1. Create a new branch `devel_001` based on the master branch, and switch to it\n",
    "2. Copy your part of the implementation to this directory (it should contain a `main.cpp` file and some tests which are currently failing since your code depends on functionalities that still doesn't exist)\n",
    "3. Stage the changes to be commited\n",
    "4. Commit the changes.\n",
    "5. Don't push the changes to the remote repository just yet"
   ]
  },
  {
   "cell_type": "markdown",
   "id": "4f586c83",
   "metadata": {},
   "source": [
    "### Developer1"
   ]
  },
  {
   "cell_type": "markdown",
   "id": "9fd2efc4",
   "metadata": {},
   "source": [
    "1. Create branch `devel_002` based on master, and switch to it\n",
    "2. Copy all the `.hpp` files that holds all the prototypes of your functions and classes (normally you both have the same version of these files)\n",
    "3. Stage the changes to be comited\n",
    "4. Commit the changes and push the branch to remote\n",
    "5. Create a pull request, the reques Developer2 for review\n",
    "6. Merge `devel_002` into `master`"
   ]
  },
  {
   "cell_type": "markdown",
   "id": "028e0029",
   "metadata": {},
   "source": [
    "### Developer2"
   ]
  },
  {
   "cell_type": "markdown",
   "id": "5c6124fa",
   "metadata": {},
   "source": [
    "Now you want to push your branch `devel_001` into `master` but first you need to update it with the last changes from `master`\n",
    "1. switch to branch `master`\n",
    "2. pull the changes into `master`\n",
    "3. switch back to the branch `devel_001`\n",
    "4. merge `master` into `devel_001` \n",
    "5. push your branch and create a pull request and ask Developer1 for review"
   ]
  },
  {
   "cell_type": "markdown",
   "id": "966c6aee",
   "metadata": {},
   "source": [
    "## quest3"
   ]
  },
  {
   "cell_type": "markdown",
   "id": "a198d4d2",
   "metadata": {},
   "source": [
    "### Developer1"
   ]
  },
  {
   "cell_type": "markdown",
   "id": "11e4bf52",
   "metadata": {},
   "source": [
    "as the release manager you want to keep the remote clean and tiddy\n",
    "- delete all the outdated remote branches\n",
    "\n",
    "you may as well clean your local environement\n",
    "\n",
    "- delete all outdated local branches\n",
    "\n",
    "\n",
    "1. create a new branch `devel_003`and switch to it\n",
    "2. copy the missing features you implemented in there\n",
    "3. make sure the tests are no longer failing.\n",
    "3. push the local branch to remote\n",
    "4. dont merge it into `master`"
   ]
  },
  {
   "cell_type": "markdown",
   "id": "9ec0ea87",
   "metadata": {},
   "source": [
    "### Developer2"
   ]
  },
  {
   "cell_type": "markdown",
   "id": "4851f09f",
   "metadata": {},
   "source": [
    "you want to make some changes based on what Developer1 did in the branch `devel_003` (adding an option to some command; -p for mkdir for example)\n",
    "\n",
    "1. fetch all remote branch into local\n",
    "2. create a new branch `devel_004` based on `devel_003`\n",
    "3. add the desired changes\n",
    "4. push/create a pull request/ask for a review"
   ]
  },
  {
   "cell_type": "markdown",
   "id": "1fa55691",
   "metadata": {},
   "source": [
    "## quest 4"
   ]
  },
  {
   "cell_type": "markdown",
   "id": "84532abd",
   "metadata": {},
   "source": [
    "### Developer1"
   ]
  },
  {
   "cell_type": "markdown",
   "id": "14aa71ae",
   "metadata": {},
   "source": [
    "1. create a new branch\n",
    "1. delete the file `tools.cpp` (or any other file)\n",
    "2. commit/push/merge to master"
   ]
  },
  {
   "cell_type": "markdown",
   "id": "350fcee0",
   "metadata": {},
   "source": [
    "## Developer2"
   ]
  },
  {
   "cell_type": "markdown",
   "id": "b96de913",
   "metadata": {},
   "source": [
    "1. switch to branch `master`\n",
    "2. pull the changes\n",
    "3. create a new branch\n",
    "3. recover the delted file"
   ]
  },
  {
   "cell_type": "code",
   "execution_count": null,
   "id": "84a0f39b",
   "metadata": {},
   "outputs": [],
   "source": []
  }
 ],
 "metadata": {
  "kernelspec": {
   "display_name": "Python 3 (ipykernel)",
   "language": "python",
   "name": "python3"
  },
  "language_info": {
   "codemirror_mode": {
    "name": "ipython",
    "version": 3
   },
   "file_extension": ".py",
   "mimetype": "text/x-python",
   "name": "python",
   "nbconvert_exporter": "python",
   "pygments_lexer": "ipython3",
   "version": "3.8.10"
  }
 },
 "nbformat": 4,
 "nbformat_minor": 5
}
